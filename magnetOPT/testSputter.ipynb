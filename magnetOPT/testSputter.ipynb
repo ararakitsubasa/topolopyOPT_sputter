{
 "cells": [
  {
   "cell_type": "code",
   "execution_count": 21,
   "metadata": {},
   "outputs": [],
   "source": [
    "import sputterSimulator"
   ]
  },
  {
   "cell_type": "code",
   "execution_count": 22,
   "metadata": {},
   "outputs": [],
   "source": [
    "import numpy as np\n",
    "import matplotlib.pyplot as plt\n",
    "from scipy.spatial.transform import Rotation as R\n",
    "# import cupy as cp\n",
    "from numba import jit\n",
    "\n",
    "import magpylib as magpy\n",
    "\n",
    "import matplotlib.path as mpath\n",
    "import matplotlib.patches as mpatches"
   ]
  },
  {
   "cell_type": "code",
   "execution_count": 23,
   "metadata": {},
   "outputs": [],
   "source": [
    "angleC = 360/24\n",
    "\n",
    "cmag_radius_out = 140\n",
    "cmag_radius_inner = 110\n",
    "\n",
    "# create magnets\n",
    "c1 = magpy.magnet.Cuboid(magnetization=[0,0,1.4], dimension=[20,10,20],position=[0,cmag_radius_out,0])\n",
    "c2 = magpy.magnet.Cuboid(magnetization=[0,0,1.4], dimension=[20,10,20],position=[0,cmag_radius_out,0])\n",
    "c3 = magpy.magnet.Cuboid(magnetization=[0,0,1.4], dimension=[20,10,20],position=[0,cmag_radius_out,0])\n",
    "c4 = magpy.magnet.Cuboid(magnetization=[0,0,1.4], dimension=[20,10,20],position=[0,cmag_radius_out,0])\n",
    "c5 = magpy.magnet.Cuboid(magnetization=[0,0,1.4], dimension=[20,10,20],position=[0,cmag_radius_out,0])\n",
    "c6 = magpy.magnet.Cuboid(magnetization=[0,0,1.4], dimension=[20,10,20],position=[0,cmag_radius_out,0])\n",
    "c7 = magpy.magnet.Cuboid(magnetization=[0,0,1.4], dimension=[20,10,20],position=[0,cmag_radius_out,0])\n",
    "c8 = magpy.magnet.Cuboid(magnetization=[0,0,1.4], dimension=[20,10,20],position=[0,cmag_radius_out,0])\n",
    "c9 = magpy.magnet.Cuboid(magnetization=[0,0,1.4], dimension=[20,10,20],position=[0,cmag_radius_out,0])\n",
    "c10 = magpy.magnet.Cuboid(magnetization=[0,0,1.4], dimension=[20,10,20],position=[0,cmag_radius_out,0])\n",
    "c11 = magpy.magnet.Cuboid(magnetization=[0,0,1.4], dimension=[20,10,20],position=[0,cmag_radius_out,0])\n",
    "c12 = magpy.magnet.Cuboid(magnetization=[0,0,1.4], dimension=[20,10,20],position=[0,cmag_radius_out,0])\n",
    "c13 = magpy.magnet.Cuboid(magnetization=[0,0,1.4], dimension=[20,10,20],position=[0,cmag_radius_out,0])\n",
    "c14 = magpy.magnet.Cuboid(magnetization=[0,0,1.4], dimension=[20,10,20],position=[0,cmag_radius_out,0])\n",
    "c15 = magpy.magnet.Cuboid(magnetization=[0,0,1.4], dimension=[20,10,20],position=[0,cmag_radius_out,0])\n",
    "c16 = magpy.magnet.Cuboid(magnetization=[0,0,1.4], dimension=[20,10,20],position=[0,cmag_radius_out,0])\n",
    "c17 = magpy.magnet.Cuboid(magnetization=[0,0,1.4], dimension=[20,10,20],position=[0,cmag_radius_out,0])\n",
    "c18 = magpy.magnet.Cuboid(magnetization=[0,0,1.4], dimension=[20,10,20],position=[0,cmag_radius_out,0])\n",
    "c19 = magpy.magnet.Cuboid(magnetization=[0,0,1.4], dimension=[20,10,20],position=[0,cmag_radius_out,0])\n",
    "c20 = magpy.magnet.Cuboid(magnetization=[0,0,1.4], dimension=[20,10,20],position=[0,cmag_radius_out,0])\n",
    "c21 = magpy.magnet.Cuboid(magnetization=[0,0,1.4], dimension=[20,10,20],position=[0,cmag_radius_out,0])\n",
    "c22 = magpy.magnet.Cuboid(magnetization=[0,0,1.4], dimension=[20,10,20],position=[0,cmag_radius_out,0])\n",
    "c23 = magpy.magnet.Cuboid(magnetization=[0,0,1.4], dimension=[20,10,20],position=[0,cmag_radius_out,0])\n",
    "c24 = magpy.magnet.Cuboid(magnetization=[0,0,1.4], dimension=[20,10,20],position=[0,cmag_radius_out,0])\n",
    "\n",
    "\n",
    "# manipulate magnets\n",
    "# s1.rotate(25,[0,1,0],anchor=[-gap,0,-56])\n",
    "c2.rotate(R.from_euler('z', -angleC*1, degrees=True) ,anchor=[0,0,0])\n",
    "c3.rotate(R.from_euler('z', -angleC*2, degrees=True) ,anchor=[0,0,0])\n",
    "c4.rotate(R.from_euler('z', -angleC*3, degrees=True) ,anchor=[0,0,0])\n",
    "c5.rotate(R.from_euler('z', -angleC*4, degrees=True) ,anchor=[0,0,0])\n",
    "c6.rotate(R.from_euler('z', -angleC*5, degrees=True) ,anchor=[0,0,0])\n",
    "c7.rotate(R.from_euler('z', -angleC*6, degrees=True) ,anchor=[0,0,0])\n",
    "c8.rotate(R.from_euler('z', -angleC*7, degrees=True) ,anchor=[0,0,0])\n",
    "c9.rotate(R.from_euler('z', -angleC*8, degrees=True) ,anchor=[0,0,0])\n",
    "c10.rotate(R.from_euler('z', -angleC*9, degrees=True) ,anchor=[0,0,0])\n",
    "c11.rotate(R.from_euler('z', -angleC*10, degrees=True) ,anchor=[0,0,0])\n",
    "c12.rotate(R.from_euler('z', -angleC*11, degrees=True) ,anchor=[0,0,0])\n",
    "c13.rotate(R.from_euler('z', -angleC*12, degrees=True) ,anchor=[0,0,0])\n",
    "c14.rotate(R.from_euler('z', -angleC*13, degrees=True) ,anchor=[0,0,0])\n",
    "c15.rotate(R.from_euler('z', -angleC*14, degrees=True) ,anchor=[0,0,0])\n",
    "c16.rotate(R.from_euler('z', -angleC*15, degrees=True) ,anchor=[0,0,0])\n",
    "c17.rotate(R.from_euler('z', -angleC*16, degrees=True) ,anchor=[0,0,0])\n",
    "c18.rotate(R.from_euler('z', -angleC*17, degrees=True) ,anchor=[0,0,0])\n",
    "c19.rotate(R.from_euler('z', -angleC*18, degrees=True) ,anchor=[0,0,0])\n",
    "c20.rotate(R.from_euler('z', -angleC*19, degrees=True) ,anchor=[0,0,0])\n",
    "c21.rotate(R.from_euler('z', -angleC*20, degrees=True) ,anchor=[0,0,0])\n",
    "c22.rotate(R.from_euler('z', -angleC*21, degrees=True) ,anchor=[0,0,0])\n",
    "c23.rotate(R.from_euler('z', -angleC*22, degrees=True) ,anchor=[0,0,0])\n",
    "c24.rotate(R.from_euler('z', -angleC*23, degrees=True) ,anchor=[0,0,0])\n",
    "\n",
    "\n",
    "\n",
    "angle2 = 360/16\n",
    "# create magnets\n",
    "ci1 = magpy.magnet.Cuboid(magnetization=[0,0,-1.4], dimension=[20,10,20],position=[0,cmag_radius_inner,0])\n",
    "ci2 = magpy.magnet.Cuboid(magnetization=[0,0,-1.4], dimension=[20,10,20],position=[0,cmag_radius_inner,0])\n",
    "ci3 = magpy.magnet.Cuboid(magnetization=[0,0,-1.4], dimension=[20,10,20],position=[0,cmag_radius_inner,0])\n",
    "ci4 = magpy.magnet.Cuboid(magnetization=[0,0,-1.4], dimension=[20,10,20],position=[0,cmag_radius_inner,0])\n",
    "ci5 = magpy.magnet.Cuboid(magnetization=[0,0,-1.4], dimension=[20,10,20],position=[0,cmag_radius_inner,0])\n",
    "ci6 = magpy.magnet.Cuboid(magnetization=[0,0,-1.4], dimension=[20,10,20],position=[0,cmag_radius_inner,0])\n",
    "ci7 = magpy.magnet.Cuboid(magnetization=[0,0,-1.4], dimension=[20,10,20],position=[0,cmag_radius_inner,0])\n",
    "ci8 = magpy.magnet.Cuboid(magnetization=[0,0,-1.4], dimension=[20,10,20],position=[0,cmag_radius_inner,0])\n",
    "ci9 = magpy.magnet.Cuboid(magnetization=[0,0,-1.4], dimension=[20,10,20],position=[0,cmag_radius_inner,0])\n",
    "ci10 = magpy.magnet.Cuboid(magnetization=[0,0,-1.4], dimension=[20,10,20],position=[0,cmag_radius_inner,0])\n",
    "ci11 = magpy.magnet.Cuboid(magnetization=[0,0,-1.4], dimension=[20,10,20],position=[0,cmag_radius_inner,0])\n",
    "ci12 = magpy.magnet.Cuboid(magnetization=[0,0,-1.4], dimension=[20,10,20],position=[0,cmag_radius_inner,0])\n",
    "ci13 = magpy.magnet.Cuboid(magnetization=[0,0,-1.4], dimension=[20,10,20],position=[0,cmag_radius_inner,0])\n",
    "ci14 = magpy.magnet.Cuboid(magnetization=[0,0,-1.4], dimension=[20,10,20],position=[0,cmag_radius_inner,0])\n",
    "ci15 = magpy.magnet.Cuboid(magnetization=[0,0,-1.4], dimension=[20,10,20],position=[0,cmag_radius_inner,0])\n",
    "ci16 = magpy.magnet.Cuboid(magnetization=[0,0,-1.4], dimension=[20,10,20],position=[0,cmag_radius_inner,0])\n",
    "\n",
    "\n",
    "ci2.rotate(R.from_euler('z', -angle2*1, degrees=True),anchor=[0,0,0])\n",
    "ci3.rotate(R.from_euler('z', -angle2*2, degrees=True),anchor=[0,0,0])\n",
    "ci4.rotate(R.from_euler('z', -angle2*3, degrees=True),anchor=[0,0,0])\n",
    "ci5.rotate(R.from_euler('z', -angle2*4, degrees=True),anchor=[0,0,0])\n",
    "ci6.rotate(R.from_euler('z', -angle2*5, degrees=True),anchor=[0,0,0])\n",
    "ci7.rotate(R.from_euler('z', -angle2*6, degrees=True),anchor=[0,0,0])\n",
    "ci8.rotate(R.from_euler('z', -angle2*7, degrees=True),anchor=[0,0,0])\n",
    "ci9.rotate(R.from_euler('z', -angle2*8, degrees=True),anchor=[0,0,0])\n",
    "ci10.rotate(R.from_euler('z', -angle2*9, degrees=True),anchor=[0,0,0])\n",
    "ci11.rotate(R.from_euler('z', -angle2*10, degrees=True),anchor=[0,0,0])\n",
    "ci12.rotate(R.from_euler('z', -angle2*11, degrees=True),anchor=[0,0,0])\n",
    "ci13.rotate(R.from_euler('z', -angle2*12, degrees=True),anchor=[0,0,0])\n",
    "ci14.rotate(R.from_euler('z', -angle2*13, degrees=True),anchor=[0,0,0])\n",
    "ci15.rotate(R.from_euler('z', -angle2*14, degrees=True),anchor=[0,0,0])\n",
    "ci16.rotate(R.from_euler('z', -angle2*15, degrees=True),anchor=[0,0,0])\n",
    "# s2.move([5,0,-4])\n",
    "\n",
    "# create collection\n",
    "cmag = magpy.Collection(c1,c2,c3,c4,c5,c6,c7,c8,c9,c10,c11,c12,c13,c14,c15,c16,c17,c18,c19,c20,c21,c22,c23,c24,\n",
    "                        ci1,ci2,ci3,ci4,ci5,ci6,ci7,ci8,ci9,ci10,ci11,ci12,ci13,ci14,ci15,ci16)\n",
    "cmag.move([0, 0, -10])\n",
    "\n",
    "c = cmag\n",
    "\n",
    "# display system geometry on ax1\n",
    "# magpy.show(c,suppress=True, direc=True)"
   ]
  },
  {
   "cell_type": "code",
   "execution_count": 4,
   "metadata": {},
   "outputs": [
    {
     "name": "stdout",
     "output_type": "stream",
     "text": [
      "1210000\n"
     ]
    }
   ],
   "source": [
    "TM = 37\n",
    "\n",
    "xs = np.linspace(-220,220,220)\n",
    "ys = np.linspace(-220,220,220)\n",
    "zs = np.linspace(TM,TM + 50,25)\n",
    "\n",
    "coordinates = [np.array([x, y, z]) for x in xs for y in ys for z in zs] \n",
    "print(len(coordinates))\n",
    "Bs = c.getB(coordinates)"
   ]
  },
  {
   "cell_type": "code",
   "execution_count": 5,
   "metadata": {},
   "outputs": [
    {
     "name": "stdout",
     "output_type": "stream",
     "text": [
      "(220, 220, 25, 3)\n"
     ]
    }
   ],
   "source": [
    "Bs = np.array(Bs).reshape(len(xs), len(ys), len(zs), 3)\n",
    "print(Bs.shape)"
   ]
  },
  {
   "cell_type": "code",
   "execution_count": 6,
   "metadata": {},
   "outputs": [],
   "source": [
    "N = int(5e6)\n",
    "x_ca1 = np.random.rand(N)*0.44 - 0.22\n",
    "y_ca1 = np.random.rand(N)*0.44 - 0.22\n",
    "\n",
    "\n",
    "inipositions = []\n",
    "R = 0.22\n",
    "\n",
    "for l in range(N):\n",
    "    if x_ca1[l]**2 + y_ca1[l]**2 <= 0.22**2:\n",
    "        iniposition = np.array([x_ca1[l], y_ca1[l], 0])\n",
    "        inipositions.append(iniposition)\n",
    "\n",
    "rng = np.random.default_rng()\n",
    "rng.shuffle(inipositions)\n",
    "\n",
    "N2 = np.array(inipositions).shape[0]\n",
    "# v0 = np.array([0, 0, 0])\n",
    "inivelosity = np.zeros([N, 3])\n",
    "\n",
    "inipositions_cp = np.array(inipositions)\n",
    "inivelosity_cp = np.zeros([N2, 3])\n"
   ]
  },
  {
   "cell_type": "code",
   "execution_count": 8,
   "metadata": {},
   "outputs": [
    {
     "name": "stderr",
     "output_type": "stream",
     "text": [
      "running:   0%|                                                            | 0.00/100 [00:00<?, ?B/s]c:\\Users\\URCS_simulation team\\Downloads\\Xsec (2)\\mlStepcoverOPT\\topolopyOPT_sputter\\magnetOPT\\sputterSimulator.py:241: RuntimeWarning:\n",
      "\n",
      "invalid value encountered in arccos\n",
      "\n",
      "c:\\Users\\URCS_simulation team\\Downloads\\Xsec (2)\\mlStepcoverOPT\\topolopyOPT_sputter\\magnetOPT\\sputterSimulator.py:88: RuntimeWarning:\n",
      "\n",
      "invalid value encountered in cast\n",
      "\n",
      "c:\\Users\\URCS_simulation team\\Downloads\\Xsec (2)\\mlStepcoverOPT\\topolopyOPT_sputter\\magnetOPT\\sputterSimulator.py:90: RuntimeWarning:\n",
      "\n",
      "invalid value encountered in cast\n",
      "\n",
      "running: 100%|██████████████████████████████████████████████████████| 100/100 [35:38<00:00, 21.4s/B]\n"
     ]
    }
   ],
   "source": [
    "test = sputterSimulator.Sputter(540, 60, 0.3, 293, Bs)\n",
    "test.setXsec()\n",
    "test.ShealthPhi(11, 70, 540)\n",
    "a = test.runE(p0 = inipositions_cp, v0 = inivelosity_cp, time = 1e-8)"
   ]
  },
  {
   "cell_type": "code",
   "execution_count": 19,
   "metadata": {},
   "outputs": [],
   "source": [
    "x_erosion = a[1][1:,0]\n",
    "y_erosion = a[1][1:,1]\n",
    "z_erosion = a[1][1:,2]\n",
    "\n",
    "x_erosion_np = x_erosion\n",
    "y_erosion_np = y_erosion\n",
    "z_erosion_np = z_erosion\n",
    "\n",
    "xbins = np.linspace(-0.22,0.22,400)\n",
    "ybins = np.linspace(-0.22,0.22,400)\n",
    "# ybins = np.linspace(1.815, 2.415, 200)\n",
    "x_bins = np.histogram(x_erosion_np, bins=xbins)\n",
    "y_bins = np.histogram(y_erosion_np, bins=ybins)\n",
    "\n",
    "H, xedges, yedges = np.histogram2d(x_erosion_np, y_erosion_np, bins=(xbins, ybins))\n",
    "\n",
    "\n",
    "# fig, ax = plt.subplots(figsize=(8,8))\n",
    "# im = ax.imshow(H.T, interpolation='nearest', origin='lower',\n",
    "#         extent=[xedges[0], xedges[-1], yedges[0], yedges[-1]])\n",
    "# ax.set_title('Ion position, erosion area(Top view)')\n",
    "# ax.set_xlabel('x')\n",
    "# ax.set_ylabel('y')\n",
    "# fig.colorbar(im, ax=ax, label='Events')\n",
    "# plt.show()"
   ]
  },
  {
   "cell_type": "code",
   "execution_count": 18,
   "metadata": {},
   "outputs": [],
   "source": [
    "r_hist = np.sqrt(x_erosion**2 + y_erosion**2)\n",
    "\n",
    "r_indice = r_hist < 0.22\n",
    "r_hist = r_hist[r_indice]\n",
    "\n",
    "# fig, axs = plt.subplots()\n",
    "\n",
    "# # We can set the number of bins with the *bins* keyword argument.\n",
    "# bins = 100\n",
    "\n",
    "# dist = axs.hist(r_hist, bins=bins, weights=1/r_hist)\n",
    "# axs.set_title('Erosion')\n",
    "# axs.set_xlabel('r[mm]')"
   ]
  },
  {
   "cell_type": "code",
   "execution_count": 17,
   "metadata": {},
   "outputs": [],
   "source": [
    "r_hist = np.sqrt(x_erosion**2 + y_erosion**2)\n",
    "\n",
    "r_indice = r_hist < 0.22\n",
    "r_hist = r_hist[r_indice]\n",
    "\n",
    "# fig, axs = plt.subplots()\n",
    "\n",
    "# We can set the number of bins with the *bins* keyword argument.\n",
    "bins = 100\n",
    "\n",
    "# dist = axs.hist(r_hist, bins=bins)\n",
    "# axs.set_title('Erosion')\n",
    "# axs.set_xlabel('r[mm]')"
   ]
  },
  {
   "cell_type": "code",
   "execution_count": 15,
   "metadata": {},
   "outputs": [
    {
     "name": "stdout",
     "output_type": "stream",
     "text": [
      "[   63   109   161   228   273   355   419   493   582   633   628   743\n",
      "   784   839   914  1039  1043  1075  1163  1235  1326  1421  1506  1491\n",
      "  1603  1617  1760  1801  1844  1907  1951  2027  2062  2102  2136  2119\n",
      "  2205  2170  2252  2301  2294  2235  2341  2412  2562  2671  2672  2829\n",
      "  3684  4323  4685  5127  5610  6562  8686 11542  7533  6327  5461  5102\n",
      "  4808  4406  4407  3585  3380  3298  3201  3469  3493  3521  3629  3704\n",
      "  4005  4116  4334  4445  4827  4984  5451  5718  6033  6401  6747  7154\n",
      "  7511  7720  8302  8318  8142  7770  7218  7142  6936  6841  6801  6610\n",
      "  6721  6479  6535  5839]\n"
     ]
    }
   ],
   "source": [
    "hist = np.histogram(r_hist, bins=bins)\n",
    "print(hist[0])"
   ]
  },
  {
   "cell_type": "code",
   "execution_count": 13,
   "metadata": {},
   "outputs": [
    {
     "name": "stdout",
     "output_type": "stream",
     "text": [
      "[   63.   109.   161.   228.   273.   355.   419.   493.   582.   633.\n",
      "   628.   743.   784.   839.   914.  1039.  1043.  1075.  1163.  1235.\n",
      "  1326.  1421.  1506.  1491.  1603.  1617.  1760.  1801.  1844.  1907.\n",
      "  1951.  2027.  2062.  2102.  2136.  2119.  2205.  2170.  2252.  2301.\n",
      "  2294.  2235.  2341.  2412.  2562.  2671.  2672.  2829.  3684.  4323.\n",
      "  4685.  5127.  5610.  6562.  8686. 11542.  7533.  6327.  5461.  5102.\n",
      "  4808.  4406.  4407.  3585.  3380.  3298.  3201.  3469.  3493.  3521.\n",
      "  3629.  3704.  4005.  4116.  4334.  4445.  4827.  4984.  5451.  5718.\n",
      "  6033.  6401.  6747.  7154.  7511.  7720.  8302.  8318.  8142.  7770.\n",
      "  7218.  7142.  6936.  6841.  6801.  6610.  6721.  6479.  6535.  5839.]\n"
     ]
    }
   ],
   "source": [
    "print(dist[0])"
   ]
  },
  {
   "cell_type": "code",
   "execution_count": null,
   "metadata": {},
   "outputs": [],
   "source": []
  }
 ],
 "metadata": {
  "kernelspec": {
   "display_name": "Python 3",
   "language": "python",
   "name": "python3"
  },
  "language_info": {
   "codemirror_mode": {
    "name": "ipython",
    "version": 3
   },
   "file_extension": ".py",
   "mimetype": "text/x-python",
   "name": "python",
   "nbconvert_exporter": "python",
   "pygments_lexer": "ipython3",
   "version": "3.9.13"
  }
 },
 "nbformat": 4,
 "nbformat_minor": 2
}
